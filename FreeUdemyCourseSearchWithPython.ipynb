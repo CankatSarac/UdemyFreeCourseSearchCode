{
  "nbformat": 4,
  "nbformat_minor": 0,
  "metadata": {
    "colab": {
      "name": "FreeUdemyCourseSearchWithPython.ipynb",
      "provenance": [],
      "authorship_tag": "ABX9TyO8ta2rS6jZP0qDWqPC6fup"
    },
    "kernelspec": {
      "name": "python3",
      "display_name": "Python 3"
    }
  },
  "cells": [
    {
      "cell_type": "code",
      "metadata": {
        "id": "x_vMb_BHfM5C",
        "colab_type": "code",
        "colab": {}
      },
      "source": [
        ""
      ],
      "execution_count": 0,
      "outputs": []
    },
    {
      "cell_type": "code",
      "metadata": {
        "id": "S_aDFtU8Hpey",
        "colab_type": "code",
        "outputId": "74769c45-300c-4a95-f78d-d1e5ec5bbca9",
        "colab": {
          "base_uri": "https://localhost:8080/",
          "height": 107
        }
      },
      "source": [
        "pip install colorama"
      ],
      "execution_count": 1,
      "outputs": [
        {
          "output_type": "stream",
          "text": [
            "Collecting colorama\n",
            "  Downloading https://files.pythonhosted.org/packages/c9/dc/45cdef1b4d119eb96316b3117e6d5708a08029992b2fee2c143c7a0a5cc5/colorama-0.4.3-py2.py3-none-any.whl\n",
            "Installing collected packages: colorama\n",
            "Successfully installed colorama-0.4.3\n"
          ],
          "name": "stdout"
        }
      ]
    },
    {
      "cell_type": "code",
      "metadata": {
        "id": "S-DkyjDHfNqR",
        "colab_type": "code",
        "colab": {
          "base_uri": "https://localhost:8080/",
          "height": 191
        },
        "outputId": "e98b5d24-8ee1-4d3c-a8fc-c6096940e0bd"
      },
      "source": [
        "import requests, urllib, json, colorama\n",
        "from bs4 import BeautifulSoup\n",
        "from colorama import init, Fore, Style\n",
        "\n",
        "init(autoreset=True)\n",
        "\n",
        "sorgu = \"inurl:udemy.com/course/ \\\"inurl:couponCode\"\n",
        "# Google Search Part\n",
        "tbs = \"d\" \n",
        "URL = f\"https://google.com/search?q={sorgu}&tbs=qdr:{tbs}\"\n",
        "\n",
        "\n",
        "# Create a vir searching\n",
        "USER_AGENT = \"Mozilla/5.0 (Windows NT 10.0; Win64; x64) AppleWebKit/537.36 (KHTML, like Gecko) Chrome/42.0.2311.135 Safari/537.36 Edge/12.246\"\n",
        "ACCEPT_ENCODING = \"gzip, deflate, br\"\n",
        "\n",
        "headers = { 'User-Agent' : USER_AGENT, 'Content-Type': \"text/plain\" }\n",
        "\n",
        "resp = requests.get(URL, headers=headers)\n",
        "try:\n",
        "  #If we connect after we split page with BeautifulSoup\n",
        "  if resp.status_code == 200:\n",
        "      soup = BeautifulSoup(resp.content, \"html.parser\")\n",
        "\n",
        "  link, title, coupon = [], [], []\n",
        "  for g in soup.find_all('div', class_='r'):\n",
        "      anchors = g.find_all('a')\n",
        "      if anchors:\n",
        "          title.append(g.find('h3').text)\n",
        "          link.append(anchors[0]['href'])\n",
        "          coupon.append((anchors[0]['href']).partition(\"?couponCode=\")[2]) \n",
        "\n",
        "  results = [{\"Title\": t, \"Link\": l, \"Coupon\": c} for t, l, c in zip(title, link, coupon)]\n",
        "\n",
        "  for i in range(len(results)):\n",
        "\n",
        "      resp = requests.get(results[i][\"Link\"], headers=headers)\n",
        "\n",
        "      if resp.status_code == 200:\n",
        "          course_code = BeautifulSoup(resp.content, \"html.parser\").body['data-clp-course-id']\n",
        "        \n",
        "          CodeCheck_URL = f\"https://www.udemy.com/api-2.0/course-landing-components/{course_code}/me/?components=buy_button,purchase,redeem_coupon,discount_expiration,gift_this_course&discountCode=\"+results[i][\"Coupon\"]\n",
        "\n",
        "          resp = requests.request(\"GET\",CodeCheck_URL, headers=headers).json()\n",
        "        \n",
        "        # Write consol on coupons and courses\n",
        "          if (resp)[\"purchase\"][\"data\"][\"pricing_result\"][\"price\"][\"amount\"] == 0:\n",
        "              print(f\"\\n[{Fore.GREEN}*{Style.RESET_ALL}]\")\n",
        "              print(f\"\\t{Fore.GREEN}Başlık: {Style.RESET_ALL}\"+results[i][\"Title\"], sep='\\n')\n",
        "              print(f\"\\t{Fore.GREEN}Adres: {Style.RESET_ALL}\"+results[i][\"Link\"], sep='\\n')\n",
        "              print(f\"\\t{Fore.GREEN}Kupon: {Style.RESET_ALL}\"+results[i][\"Coupon\"]+ \n",
        "                  f\"\\t\\t{Fore.GREEN}Tahmini Kalan Kupon: {Style.RESET_ALL}\"+str((resp)[\"purchase\"][\"data\"][\"pricing_result\"][\"campaign\"][\"uses_remaining\"])\n",
        "                  +str(f\"\\t\\t{Fore.GREEN}Kupon Bitiş Zamanı:: {Style.RESET_ALL}\"+str((resp)[\"purchase\"][\"data\"][\"pricing_result\"][\"campaign\"][\"end_time\"])[:-9])) \n",
        "             \n",
        "except KeyError:\n",
        "  pass\n",
        "      "
      ],
      "execution_count": 3,
      "outputs": [
        {
          "output_type": "stream",
          "text": [
            "\n",
            "[*]\n",
            "\tBaşlık: Financial Modelling, Financial Planning and DCF Valuation ...\n",
            "\tAdres: https://www.udemy.com/course/financial-modelling-financial-planning-and-dcf-valuation/?couponCode=SPECIALOFFER\n",
            "\tKupon: SPECIALOFFER\t\tTahmini Kalan Kupon: 39779\t\tKupon Bitiş Zamanı:: 2020-04-10 19:52\n",
            "\n",
            "[*]\n",
            "\tBaşlık: ISC SSCP Cryptography Certified Practice Exam | Udemy\n",
            "\tAdres: https://www.udemy.com/course/isc-sscp-cryptography-certified-practice-exam/?couponCode=ISC-105\n",
            "\tKupon: ISC-105\t\tTahmini Kalan Kupon: 39392\t\tKupon Bitiş Zamanı:: 2020-04-10 12:19\n"
          ],
          "name": "stdout"
        }
      ]
    },
    {
      "cell_type": "code",
      "metadata": {
        "id": "uTaN59RBfTv2",
        "colab_type": "code",
        "colab": {}
      },
      "source": [
        ""
      ],
      "execution_count": 0,
      "outputs": []
    }
  ]
}